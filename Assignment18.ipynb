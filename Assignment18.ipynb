{
 "cells": [
  {
   "cell_type": "markdown",
   "metadata": {},
   "source": [
    "#### Problem Statement 1:\n",
    "Is gender independent of education level? A random sample of 395 people were\n",
    "surveyed and each person was asked to report the highest education level they\n",
    "obtained. The data that resulted from the survey is summarized in the following table:\n",
    "High School Bachelors Masters Ph.d. Total\n",
    "Female 60 54 46 41 201\n",
    "Male 40 44 53 57 194\n",
    "Total 100 98 99 98 395\n",
    "Question: Are gender and education level dependent at 5% level of significance? In\n",
    "other words, given the data collected above, is there a relationship between the gender\n",
    "of an individual and the level of education that they have obtained?"
   ]
  },
  {
   "cell_type": "code",
   "execution_count": 33,
   "metadata": {},
   "outputs": [],
   "source": [
    "# importing the libraries\n",
    "import numpy as np\n",
    "import pandas as pd\n",
    "import scipy.stats as stats\n",
    "import sys"
   ]
  },
  {
   "cell_type": "code",
   "execution_count": 34,
   "metadata": {},
   "outputs": [
    {
     "data": {
      "text/html": [
       "<div>\n",
       "<style scoped>\n",
       "    .dataframe tbody tr th:only-of-type {\n",
       "        vertical-align: middle;\n",
       "    }\n",
       "\n",
       "    .dataframe tbody tr th {\n",
       "        vertical-align: top;\n",
       "    }\n",
       "\n",
       "    .dataframe thead th {\n",
       "        text-align: right;\n",
       "    }\n",
       "</style>\n",
       "<table border=\"1\" class=\"dataframe\">\n",
       "  <thead>\n",
       "    <tr style=\"text-align: right;\">\n",
       "      <th></th>\n",
       "      <th>Qualification</th>\n",
       "      <th>No_of_F</th>\n",
       "      <th>No_Of_M</th>\n",
       "    </tr>\n",
       "  </thead>\n",
       "  <tbody>\n",
       "    <tr>\n",
       "      <th>0</th>\n",
       "      <td>High School</td>\n",
       "      <td>60</td>\n",
       "      <td>40</td>\n",
       "    </tr>\n",
       "    <tr>\n",
       "      <th>1</th>\n",
       "      <td>Bachelors</td>\n",
       "      <td>54</td>\n",
       "      <td>44</td>\n",
       "    </tr>\n",
       "    <tr>\n",
       "      <th>2</th>\n",
       "      <td>Masters</td>\n",
       "      <td>46</td>\n",
       "      <td>53</td>\n",
       "    </tr>\n",
       "    <tr>\n",
       "      <th>3</th>\n",
       "      <td>PHD</td>\n",
       "      <td>41</td>\n",
       "      <td>57</td>\n",
       "    </tr>\n",
       "  </tbody>\n",
       "</table>\n",
       "</div>"
      ],
      "text/plain": [
       "  Qualification  No_of_F  No_Of_M\n",
       "0   High School       60       40\n",
       "1     Bachelors       54       44\n",
       "2       Masters       46       53\n",
       "3           PHD       41       57"
      ]
     },
     "execution_count": 34,
     "metadata": {},
     "output_type": "execute_result"
    }
   ],
   "source": [
    "qual = ['High School','Bachelors','Masters','PHD']     \n",
    "f = [60,54,46,41]                                         \n",
    "m = [40,44,53,57]                                      \n",
    "df=pd.DataFrame({'Qualification':qual,'No_of_F': f ,'No_Of_M': m})\n",
    "df"
   ]
  },
  {
   "cell_type": "code",
   "execution_count": 35,
   "metadata": {},
   "outputs": [
    {
     "data": {
      "text/html": [
       "<div>\n",
       "<style scoped>\n",
       "    .dataframe tbody tr th:only-of-type {\n",
       "        vertical-align: middle;\n",
       "    }\n",
       "\n",
       "    .dataframe tbody tr th {\n",
       "        vertical-align: top;\n",
       "    }\n",
       "\n",
       "    .dataframe thead th {\n",
       "        text-align: right;\n",
       "    }\n",
       "</style>\n",
       "<table border=\"1\" class=\"dataframe\">\n",
       "  <thead>\n",
       "    <tr style=\"text-align: right;\">\n",
       "      <th></th>\n",
       "      <th>Qualification</th>\n",
       "      <th>No_of_F</th>\n",
       "      <th>No_Of_M</th>\n",
       "      <th>Mean_F</th>\n",
       "      <th>Mean_M</th>\n",
       "      <th>Std_Dev_F</th>\n",
       "      <th>Std_Dev_M</th>\n",
       "      <th>Z_F</th>\n",
       "      <th>Z_M</th>\n",
       "      <th>p_F</th>\n",
       "      <th>p_M</th>\n",
       "    </tr>\n",
       "  </thead>\n",
       "  <tbody>\n",
       "    <tr>\n",
       "      <th>0</th>\n",
       "      <td>High School</td>\n",
       "      <td>60</td>\n",
       "      <td>40</td>\n",
       "      <td>50.25</td>\n",
       "      <td>48.5</td>\n",
       "      <td>8.421203</td>\n",
       "      <td>7.852813</td>\n",
       "      <td>1.336903</td>\n",
       "      <td>-1.249865</td>\n",
       "      <td>0.909373</td>\n",
       "      <td>0.105674</td>\n",
       "    </tr>\n",
       "    <tr>\n",
       "      <th>1</th>\n",
       "      <td>Bachelors</td>\n",
       "      <td>54</td>\n",
       "      <td>44</td>\n",
       "      <td>50.25</td>\n",
       "      <td>48.5</td>\n",
       "      <td>8.421203</td>\n",
       "      <td>7.852813</td>\n",
       "      <td>0.514193</td>\n",
       "      <td>-0.661693</td>\n",
       "      <td>0.696442</td>\n",
       "      <td>0.254084</td>\n",
       "    </tr>\n",
       "    <tr>\n",
       "      <th>2</th>\n",
       "      <td>Masters</td>\n",
       "      <td>46</td>\n",
       "      <td>53</td>\n",
       "      <td>50.25</td>\n",
       "      <td>48.5</td>\n",
       "      <td>8.421203</td>\n",
       "      <td>7.852813</td>\n",
       "      <td>-0.582752</td>\n",
       "      <td>0.661693</td>\n",
       "      <td>0.280030</td>\n",
       "      <td>0.745916</td>\n",
       "    </tr>\n",
       "    <tr>\n",
       "      <th>3</th>\n",
       "      <td>PHD</td>\n",
       "      <td>41</td>\n",
       "      <td>57</td>\n",
       "      <td>50.25</td>\n",
       "      <td>48.5</td>\n",
       "      <td>8.421203</td>\n",
       "      <td>7.852813</td>\n",
       "      <td>-1.268344</td>\n",
       "      <td>1.249865</td>\n",
       "      <td>0.102338</td>\n",
       "      <td>0.894326</td>\n",
       "    </tr>\n",
       "  </tbody>\n",
       "</table>\n",
       "</div>"
      ],
      "text/plain": [
       "  Qualification  No_of_F  No_Of_M  Mean_F  Mean_M  Std_Dev_F  Std_Dev_M  \\\n",
       "0   High School       60       40   50.25    48.5   8.421203   7.852813   \n",
       "1     Bachelors       54       44   50.25    48.5   8.421203   7.852813   \n",
       "2       Masters       46       53   50.25    48.5   8.421203   7.852813   \n",
       "3           PHD       41       57   50.25    48.5   8.421203   7.852813   \n",
       "\n",
       "        Z_F       Z_M       p_F       p_M  \n",
       "0  1.336903 -1.249865  0.909373  0.105674  \n",
       "1  0.514193 -0.661693  0.696442  0.254084  \n",
       "2 -0.582752  0.661693  0.280030  0.745916  \n",
       "3 -1.268344  1.249865  0.102338  0.894326  "
      ]
     },
     "execution_count": 35,
     "metadata": {},
     "output_type": "execute_result"
    }
   ],
   "source": [
    "df['Mean_F']=df['No_of_F'].mean()\n",
    "df['Mean_M']=df['No_Of_M'].mean()\n",
    "\n",
    "df['Std_Dev_F']=df['No_of_F'].std()\n",
    "df['Std_Dev_M']=df['No_Of_M'].std()\n",
    "\n",
    "df['Z_F']=stats.zscore(df['No_of_F'])\n",
    "df['Z_M']=stats.zscore(df['No_Of_M'])\n",
    "\n",
    "df['p_F']=[stats.norm.cdf(pval) for pval in stats.zscore(df['No_of_F'])]\n",
    "df['p_M']=[stats.norm.cdf(pval) for pval in stats.zscore(df['No_Of_M'])]\n",
    "df"
   ]
  },
  {
   "cell_type": "markdown",
   "metadata": {},
   "source": [
    "##### Observations:\n",
    "----------------------------------------------------------------------------------------------------------------------------------------------------------------------------------------------<br>\n",
    "i) From the above observations using the above dataframe pvalue of Male and Female is more than 5% (significance level), there is a relationship <br>between the gender of an individual and the level of education that they have obtained.<br>\n",
    "\n",
    "ii) For High School and Bacelors, females outnumber males.\n",
    "\n",
    "iii)However, for higher education levels, like Masters and PhD, males outnumber females"
   ]
  },
  {
   "cell_type": "markdown",
   "metadata": {},
   "source": [
    "#### Problem Statement 2:\n",
    "Using the following data, perform a oneway analysis of variance using α=.05. Write up\n",
    "the results in APA format.\n",
    "\n",
    "[Group1: 51, 45, 33, 45, 67]<br>\n",
    "[Group2: 23, 43, 23, 43, 45]<br>\n",
    "[Group3: 56, 76, 74, 87, 56]<br>"
   ]
  },
  {
   "cell_type": "code",
   "execution_count": 36,
   "metadata": {},
   "outputs": [
    {
     "data": {
      "text/html": [
       "<div>\n",
       "<style scoped>\n",
       "    .dataframe tbody tr th:only-of-type {\n",
       "        vertical-align: middle;\n",
       "    }\n",
       "\n",
       "    .dataframe tbody tr th {\n",
       "        vertical-align: top;\n",
       "    }\n",
       "\n",
       "    .dataframe thead th {\n",
       "        text-align: right;\n",
       "    }\n",
       "</style>\n",
       "<table border=\"1\" class=\"dataframe\">\n",
       "  <thead>\n",
       "    <tr style=\"text-align: right;\">\n",
       "      <th></th>\n",
       "      <th>Grp1</th>\n",
       "      <th>Grp2</th>\n",
       "      <th>Grp3</th>\n",
       "    </tr>\n",
       "  </thead>\n",
       "  <tbody>\n",
       "    <tr>\n",
       "      <th>0</th>\n",
       "      <td>51</td>\n",
       "      <td>23</td>\n",
       "      <td>56</td>\n",
       "    </tr>\n",
       "    <tr>\n",
       "      <th>1</th>\n",
       "      <td>45</td>\n",
       "      <td>43</td>\n",
       "      <td>76</td>\n",
       "    </tr>\n",
       "    <tr>\n",
       "      <th>2</th>\n",
       "      <td>33</td>\n",
       "      <td>23</td>\n",
       "      <td>74</td>\n",
       "    </tr>\n",
       "    <tr>\n",
       "      <th>3</th>\n",
       "      <td>45</td>\n",
       "      <td>43</td>\n",
       "      <td>87</td>\n",
       "    </tr>\n",
       "    <tr>\n",
       "      <th>4</th>\n",
       "      <td>67</td>\n",
       "      <td>45</td>\n",
       "      <td>56</td>\n",
       "    </tr>\n",
       "  </tbody>\n",
       "</table>\n",
       "</div>"
      ],
      "text/plain": [
       "   Grp1  Grp2  Grp3\n",
       "0    51    23    56\n",
       "1    45    43    76\n",
       "2    33    23    74\n",
       "3    45    43    87\n",
       "4    67    45    56"
      ]
     },
     "execution_count": 36,
     "metadata": {},
     "output_type": "execute_result"
    }
   ],
   "source": [
    "grp1 = [51, 45, 33, 45, 67]   \n",
    "grp2 = [23, 43, 23, 43, 45]   \n",
    "grp3 = [56, 76, 74, 87, 56]   \n",
    "\n",
    "df_grp=pd.DataFrame({'Grp1':grp1,'Grp2': grp2 ,'Grp3': grp3})\n",
    "df_grp"
   ]
  },
  {
   "cell_type": "code",
   "execution_count": 37,
   "metadata": {},
   "outputs": [
    {
     "name": "stdout",
     "output_type": "stream",
     "text": [
      "F Statistic value 9.747205503009463 , p-value 0.0030597541434430556\n"
     ]
    }
   ],
   "source": [
    "# One-way analysis\n",
    "statistic, pvalue = stats.f_oneway(grp1,grp2,grp3)\n",
    "\n",
    "# Significance level\n",
    "α = 0.05   \n",
    "\n",
    "print(\"F Statistic value {} , p-value {}\".format(statistic,pvalue))"
   ]
  },
  {
   "cell_type": "markdown",
   "metadata": {},
   "source": [
    "##### Conclusion\n",
    "The test result suggests the groups don't have the same sample means in this case, <br>\n",
    "as the p-value returned is 0.00305 which is < 0.05"
   ]
  },
  {
   "cell_type": "markdown",
   "metadata": {},
   "source": [
    "#### Problem Statement 3:\n",
    "Calculate F Test for given 10, 20, 30, 40, 50 and 5,10,15, 20, 25.<br>\n",
    "For 10, 20, 30, 40, 50:"
   ]
  },
  {
   "cell_type": "code",
   "execution_count": 38,
   "metadata": {},
   "outputs": [
    {
     "data": {
      "text/plain": [
       "F_onewayResult(statistic=3.6, pvalue=0.0943497728424377)"
      ]
     },
     "execution_count": 38,
     "metadata": {},
     "output_type": "execute_result"
    }
   ],
   "source": [
    "stats.f_oneway([10, 20, 30, 40, 50],[5,10,15, 20, 25])"
   ]
  },
  {
   "cell_type": "code",
   "execution_count": 39,
   "metadata": {},
   "outputs": [
    {
     "name": "stdout",
     "output_type": "stream",
     "text": [
      "F Test Results:\t\t 4.0\n"
     ]
    }
   ],
   "source": [
    "group1 = [10,20,30,40,50]\n",
    "group2 = [5,10,15, 20, 25]\n",
    "\n",
    "df_group=pd.DataFrame({'group1':group1,'group2': group2})\n",
    "\n",
    "df_group['Mean_group1']=df_group['group1'].mean()\n",
    "df_group['Mean_group2']=df_group['group2'].mean()\n",
    "\n",
    "df_group['Std_Dev_group1']=df_group['group1'].std()\n",
    "df_group['Std_Dev_group2']=df_group['group2'].std()\n",
    "\n",
    "df_group['Var_group1']=df_group['group1'].var()\n",
    "df_group['Var_group2']=df_group['group2'].var()\n",
    "\n",
    "F_Val=df_group['group1'].var()/df_group['group2'].var()\n",
    "\n",
    "print('F Test Results:\\t\\t',F_Val)"
   ]
  }
 ],
 "metadata": {
  "kernelspec": {
   "display_name": "Python 3",
   "language": "python",
   "name": "python3"
  },
  "language_info": {
   "codemirror_mode": {
    "name": "ipython",
    "version": 3
   },
   "file_extension": ".py",
   "mimetype": "text/x-python",
   "name": "python",
   "nbconvert_exporter": "python",
   "pygments_lexer": "ipython3",
   "version": "3.7.1"
  }
 },
 "nbformat": 4,
 "nbformat_minor": 2
}
